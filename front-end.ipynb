{
 "cells": [
  {
   "cell_type": "code",
   "execution_count": 104,
   "id": "e7997e3d-7291-4060-bd52-f4de80dc794e",
   "metadata": {
    "extensions": {
     "jupyter_dashboards": {
      "activeView": "grid_default",
      "views": {
       "grid_default": {
        "col": null,
        "height": 2,
        "hidden": true,
        "row": null,
        "width": 2
       }
      }
     }
    },
    "tags": []
   },
   "outputs": [],
   "source": [
    "import ipywidgets as widgets\n",
    "from ipywidgets import GridspecLayout"
   ]
  },
  {
   "cell_type": "code",
   "execution_count": 105,
   "id": "11c31bd5-0c00-4942-8aab-ddb2e8f0c2d1",
   "metadata": {
    "extensions": {
     "jupyter_dashboards": {
      "activeView": "grid_default",
      "views": {
       "grid_default": {
        "col": 0,
        "height": 4,
        "hidden": false,
        "row": 0,
        "width": 8
       }
      }
     }
    }
   },
   "outputs": [
    {
     "data": {
      "application/vnd.jupyter.widget-view+json": {
       "model_id": "103070472fbf43eb856c5f551c02137b",
       "version_major": 2,
       "version_minor": 0
      },
      "text/plain": [
       "Image(value=b'\\x89PNG\\r\\n\\x1a\\n\\x00\\x00\\x00\\rIHDR\\x00\\x00\\x04\\xf2\\x00\\x00\\x015\\x08\\x06\\x00\\x00\\x00m+\\xce\\x9e\\x…"
      ]
     },
     "metadata": {},
     "output_type": "display_data"
    }
   ],
   "source": [
    "file = open(\"Picture3.png\", \"rb\")\n",
    "image = file.read()\n",
    "widgets.Image(\n",
    "    value=image,\n",
    "    format='png',\n",
    "    width=400,\n",
    "    height=300,\n",
    ")"
   ]
  },
  {
   "cell_type": "markdown",
   "id": "c3319c4e-7a4e-4fee-aafc-8bf130f13e4a",
   "metadata": {
    "extensions": {
     "jupyter_dashboards": {
      "activeView": "grid_default",
      "views": {
       "grid_default": {
        "col": 0,
        "height": 4,
        "hidden": false,
        "row": 4,
        "width": 4
       }
      }
     }
    },
    "tags": []
   },
   "source": [
    "# MVP Modelo predictivo\n",
    "Analisis de variables en tiempo real."
   ]
  },
  {
   "cell_type": "markdown",
   "id": "b3021828-f743-4b94-90ab-38dfaee454ba",
   "metadata": {
    "extensions": {
     "jupyter_dashboards": {
      "activeView": "grid_default",
      "views": {
       "grid_default": {
        "col": 4,
        "height": 2,
        "hidden": false,
        "row": 4,
        "width": 4
       }
      }
     }
    }
   },
   "source": [
    "### Ingrese con cuenta institucional"
   ]
  },
  {
   "cell_type": "code",
   "execution_count": 121,
   "id": "88e49639-f589-4ad1-8554-073afd08176e",
   "metadata": {
    "extensions": {
     "jupyter_dashboards": {
      "activeView": "grid_default",
      "views": {
       "grid_default": {
        "col": 4,
        "height": 2,
        "hidden": false,
        "row": 6,
        "width": 4
       }
      }
     }
    }
   },
   "outputs": [
    {
     "data": {
      "application/vnd.jupyter.widget-view+json": {
       "model_id": "fbe922a069164ae0b1544d57de3b5291",
       "version_major": 2,
       "version_minor": 0
      },
      "text/plain": [
       "Text(value='', description='Correo', placeholder='example@example.com')"
      ]
     },
     "metadata": {},
     "output_type": "display_data"
    }
   ],
   "source": [
    "widgets.Text(\n",
    "    value='',\n",
    "    placeholder='example@example.com',\n",
    "    description='Correo',\n",
    "    disabled=False\n",
    ")"
   ]
  },
  {
   "cell_type": "code",
   "execution_count": 122,
   "id": "ad7552fc-ac3c-466e-8497-deffca2c4249",
   "metadata": {
    "extensions": {
     "jupyter_dashboards": {
      "activeView": "grid_default",
      "views": {
       "grid_default": {
        "col": 4,
        "height": 2,
        "hidden": false,
        "row": 8,
        "width": 4
       }
      }
     }
    }
   },
   "outputs": [
    {
     "data": {
      "application/vnd.jupyter.widget-view+json": {
       "model_id": "2b9191bb012146f1be2668af1b931b47",
       "version_major": 2,
       "version_minor": 0
      },
      "text/plain": [
       "Password(description='Password:', placeholder='Enter password')"
      ]
     },
     "metadata": {},
     "output_type": "display_data"
    }
   ],
   "source": [
    "widgets.Password(\n",
    "    value='password',\n",
    "    placeholder='Enter password',\n",
    "    description='Password:',\n",
    "    disabled=False\n",
    ")"
   ]
  },
  {
   "cell_type": "code",
   "execution_count": 123,
   "id": "4e6ed589-f5ad-433a-b5d1-b47f8e18d6b2",
   "metadata": {
    "extensions": {
     "jupyter_dashboards": {
      "activeView": "grid_default",
      "views": {
       "grid_default": {
        "col": 0,
        "height": 2,
        "hidden": false,
        "row": 8,
        "width": 4
       }
      }
     }
    }
   },
   "outputs": [
    {
     "data": {
      "application/vnd.jupyter.widget-view+json": {
       "model_id": "08cf5bea41e146a7a7402b247705f0e9",
       "version_major": 2,
       "version_minor": 0
      },
      "text/plain": [
       "Dropdown(description='Región:', index=10, options=('Arica y Parinacota y Tarapacá', 'Antofagasta', 'Atacama y …"
      ]
     },
     "metadata": {},
     "output_type": "display_data"
    }
   ],
   "source": [
    "region = widgets.Dropdown(\n",
    "    options=['Arica y Parinacota y Tarapacá',\n",
    "             'Antofagasta',\n",
    "             'Atacama y Coquimbo',\n",
    "             'Valparaíso',\n",
    "             'O\"Higgins',\n",
    "             'Maule',\n",
    "             'Ñuble, Biobío y La Araucanía (norte)',\n",
    "             'La Araucanía (sur)',\n",
    "             'Los Ríos y Los Lagos (norte)',\n",
    "             'Los Lagos (sur) y Aysén'\n",
    "             'Magallanes',\n",
    "             'Metropolitana de Santiago'],\n",
    "    value='Metropolitana de Santiago',\n",
    "    description='Región:',\n",
    "    disabled=False,\n",
    ")\n",
    "region"
   ]
  },
  {
   "cell_type": "code",
   "execution_count": 108,
   "id": "22c305fe-1df3-493e-a740-fc96a2ea3365",
   "metadata": {
    "extensions": {
     "jupyter_dashboards": {
      "activeView": "grid_default",
      "views": {
       "grid_default": {
        "col": 0,
        "height": 3,
        "hidden": false,
        "row": 10,
        "width": 4
       }
      }
     }
    }
   },
   "outputs": [
    {
     "data": {
      "application/vnd.jupyter.widget-view+json": {
       "model_id": "82fc5b061ada4cd88e2a2b517569658f",
       "version_major": 2,
       "version_minor": 0
      },
      "text/plain": [
       "RadioButtons(description='Sexo:', options=('masculino', 'femenino'), value='masculino')"
      ]
     },
     "metadata": {},
     "output_type": "display_data"
    }
   ],
   "source": [
    "sexo = widgets.RadioButtons(\n",
    "    options=['masculino', 'femenino'],\n",
    "#    value='pineapple', # Defaults to 'pineapple'\n",
    "#    layout={'width': 'max-content'}, # If the items' names are long\n",
    "    description='Sexo:',\n",
    "    disabled=False\n",
    ")\n",
    "sexo"
   ]
  },
  {
   "cell_type": "code",
   "execution_count": 107,
   "id": "738711ef-1607-490f-abd3-938ec5cab6bb",
   "metadata": {
    "extensions": {
     "jupyter_dashboards": {
      "activeView": "grid_default",
      "views": {
       "grid_default": {
        "col": 0,
        "height": 3,
        "hidden": false,
        "row": 13,
        "width": 4
       }
      }
     }
    }
   },
   "outputs": [
    {
     "name": "stdout",
     "output_type": "stream",
     "text": [
      "Fecha de Nacimiento:\n"
     ]
    },
    {
     "data": {
      "application/vnd.jupyter.widget-view+json": {
       "model_id": "a207fcafd2ad423ba29cb30ea80c2897",
       "version_major": 2,
       "version_minor": 0
      },
      "text/plain": [
       "DatePicker(value=None, description='Seleccione', layout=Layout(width='max-content'))"
      ]
     },
     "metadata": {},
     "output_type": "display_data"
    }
   ],
   "source": [
    "print('Fecha de Nacimiento:')\n",
    "edad = widgets.DatePicker(\n",
    "    description='Seleccione',\n",
    "    layout={'width': 'max-content'}, # If the items' names are long \n",
    "    disabled=False\n",
    ")\n",
    "edad"
   ]
  },
  {
   "cell_type": "code",
   "execution_count": 124,
   "id": "31e3c012-d929-4c20-a0a2-28ca7887c26b",
   "metadata": {
    "extensions": {
     "jupyter_dashboards": {
      "activeView": "grid_default",
      "views": {
       "grid_default": {
        "col": 0,
        "height": 2,
        "hidden": false,
        "row": 16,
        "width": 4
       }
      }
     }
    }
   },
   "outputs": [
    {
     "data": {
      "application/vnd.jupyter.widget-view+json": {
       "model_id": "e697649eb0a94df6bfbb62a67467de34",
       "version_major": 2,
       "version_minor": 0
      },
      "text/plain": [
       "BoundedFloatText(value=0.0, description='RPRM copies/ml:', max=10.0, step=0.01, style=DescriptionStyle(descrip…"
      ]
     },
     "metadata": {},
     "output_type": "display_data"
    }
   ],
   "source": [
    "style = {'description_width': 'initial'}\n",
    "RPRM_copy_ml = widgets.BoundedFloatText(\n",
    "    value=0,\n",
    "    min=0,\n",
    "    max=10.0,\n",
    "    step=0.01,\n",
    "    description='RPRM copies/ml:',\n",
    "    disabled=False,\n",
    "    style=style\n",
    ")\n",
    "RPRM_copy_ml"
   ]
  },
  {
   "cell_type": "markdown",
   "id": "73e82d26-caf4-4e5a-99cf-b9c0f220767d",
   "metadata": {
    "extensions": {
     "jupyter_dashboards": {
      "activeView": "grid_default",
      "views": {
       "grid_default": {
        "col": 0,
        "height": 6,
        "hidden": false,
        "row": 20,
        "width": 5
       }
      }
     }
    }
   },
   "source": [
    "## Carga masiva de datos\n",
    "Si tiene más de un paciente, por favor siga los siguientes pasos:\n",
    "1) descargar el template,\n",
    "2) llenar template con datos de pacientes sin modificar template,\n",
    "3) cambiar nombre del archivo con el de su cuenta de usuario,\n",
    "4) cargar template."
   ]
  },
  {
   "cell_type": "code",
   "execution_count": 111,
   "id": "2ece8fb4-b6ae-45a9-8ed3-59852780b8ab",
   "metadata": {
    "extensions": {
     "jupyter_dashboards": {
      "activeView": "grid_default",
      "views": {
       "grid_default": {
        "col": 5,
        "height": 2,
        "hidden": false,
        "row": 20,
        "width": 2
       }
      }
     }
    }
   },
   "outputs": [
    {
     "data": {
      "application/vnd.jupyter.widget-view+json": {
       "model_id": "5aa44fd9b20c4cdb987ba8ece44a960c",
       "version_major": 2,
       "version_minor": 0
      },
      "text/plain": [
       "Button(button_style='info', description='Descargar', icon='check', style=ButtonStyle(), tooltip='Descargar')"
      ]
     },
     "metadata": {},
     "output_type": "display_data"
    }
   ],
   "source": [
    "button = widgets.Button(\n",
    "    description='Descargar',\n",
    "    disabled=False,\n",
    "    button_style='info', # 'success', 'info', 'warning', 'danger' or ''\n",
    "    tooltip='Descargar',\n",
    "    icon='check' # (FontAwesome names without the `fa-` prefix)\n",
    ")\n",
    "button"
   ]
  },
  {
   "cell_type": "code",
   "execution_count": 83,
   "id": "bc4dfe30-25bf-4194-9c94-e12adb3161fd",
   "metadata": {
    "extensions": {
     "jupyter_dashboards": {
      "activeView": "grid_default",
      "views": {
       "grid_default": {
        "col": 5,
        "height": 2,
        "hidden": false,
        "row": 23,
        "width": 2
       }
      }
     }
    }
   },
   "outputs": [
    {
     "data": {
      "application/vnd.jupyter.widget-view+json": {
       "model_id": "7dba7a459d4c43d79cdbd89919cafb09",
       "version_major": 2,
       "version_minor": 0
      },
      "text/plain": [
       "FileUpload(value={}, description='Upload')"
      ]
     },
     "metadata": {},
     "output_type": "display_data"
    }
   ],
   "source": [
    "\n",
    "      \n",
    "upload = widgets.FileUpload(\n",
    "    accept='',  # Accepted file extension e.g. '.txt', '.pdf', 'image/*', 'image/*,.pdf'\n",
    "    multiple=False  # True to accept multiple files upload else False\n",
    ")\n",
    "upload      \n",
    "\n"
   ]
  }
 ],
 "metadata": {
  "extensions": {
   "jupyter_dashboards": {
    "activeView": "grid_default",
    "version": 1,
    "views": {
     "grid_default": {
      "cellMargin": 1,
      "defaultCellHeight": 40,
      "maxColumns": 12,
      "name": "Form",
      "type": "grid"
     }
    }
   }
  },
  "kernelspec": {
   "display_name": "Python 3 (ipykernel)",
   "language": "python",
   "name": "python3"
  },
  "language_info": {
   "codemirror_mode": {
    "name": "ipython",
    "version": 3
   },
   "file_extension": ".py",
   "mimetype": "text/x-python",
   "name": "python",
   "nbconvert_exporter": "python",
   "pygments_lexer": "ipython3",
   "version": "3.9.7"
  }
 },
 "nbformat": 4,
 "nbformat_minor": 5
}
